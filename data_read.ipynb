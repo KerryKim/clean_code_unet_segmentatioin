{
 "cells": [
  {
   "cell_type": "markdown",
   "metadata": {},
   "source": [
    "# Data Read\n",
    "\n",
    "*** 들어가기 전 ***\n",
    "conda create -n pytorch_unet_36 python=3.6\n",
    "conda env liset\n",
    "\n",
    "conda install numpy\n",
    "conda install pillow\n",
    "conda install matplotlib"
   ]
  },
  {
   "cell_type": "code",
   "execution_count": 1,
   "metadata": {},
   "outputs": [],
   "source": [
    "## 필요한 패키지 등록\n",
    "\n",
    "import os\n",
    "import numpy as np\n",
    "from PIL import Image\n",
    "import matplotlib.pyplot as plt"
   ]
  },
  {
   "cell_type": "markdown",
   "metadata": {},
   "source": [
    "*** Image.open(os.path.join(dir_data, name_label))***\n",
    "\n",
    "보통 im = Image.open('python.png') 로도 사용하며, os.path.join()에 주소를 써주면 그 주소의 파일을 불러오는 듯 하다.\n",
    "\n",
    "Ref) im.save('python.jpg')\n",
    "\n",
    "*** os.path.join() ***\n",
    "\n",
    "\n",
    "os.path는 경로와 관련된 모듈이다. os.path.join()은 전달한 값을 연결한 경로롤 반환한다.\n",
    "그래서 dir_data = './datasets'의 경로 안에 있는 name_label 일을 찾게 된다. (중복해서 경로를 길게 써줄 필요를 없게 만든다.)"
   ]
  },
  {
   "cell_type": "code",
   "execution_count": 4,
   "metadata": {},
   "outputs": [],
   "source": [
    "## 데이터 불러오기\n",
    "\n",
    "dir_data = './datasets'\n",
    "\n",
    "name_label = 'train-labels.tif'\n",
    "name_input = 'train-volume.tif'\n",
    "\n",
    "img_label = Image.open(os.path.join(dir_data, name_label))\n",
    "img_input = Image.open(os.path.join(dir_data, name_Input))\n",
    "\n",
    "ny, nx = img_label.size\n",
    "nframe = img_label.n_frames"
   ]
  },
  {
   "cell_type": "code",
   "execution_count": null,
   "metadata": {},
   "outputs": [],
   "source": [
    "##\n",
    "nframe_train = 24\n",
    "nframe_val = 3\n",
    "nframe_test = 3\n",
    "\n",
    "dir_save_train = os.path.join(dir_data, 'train')\n",
    "dir_save_val = os.path.join(dir_data, 'val')\n",
    "dir_save_test = os.path.join(dir_data, 'test')\n",
    "\n",
    "if not os.path.exists(dir_save_train):\n",
    "    os.makedirs(dir_save_train)\n",
    "    \n",
    "if not os.path.exists(dir_save_val):\n",
    "    os.makedirs(dir_save_val)\n",
    "    \n",
    "if not os.path.exists(dir_save_test):\n",
    "    os.makedirs(dir_save_test)"
   ]
  },
  {
   "cell_type": "code",
   "execution_count": null,
   "metadata": {},
   "outputs": [],
   "source": [
    "##\n",
    "id_frame = np.arrange(nframe)\n",
    "np.random.shuffle(id_frame)"
   ]
  },
  {
   "cell_type": "markdown",
   "metadata": {},
   "source": [
    "*** img_label.seek() ***\n",
    "\n",
    "seek : seek 명령어를 통해 파일의 제일 처음으로 갑니다.파일의 가장 첫 번째 위치에서 n번째 바이트로 포인터 이동\n",
    "\n",
    "*** np.asarray ***\n",
    "\n",
    "np.array = deepcopy\n",
    "np.asarray = shallowcopy, \n",
    "즉 np.array로 어떤 np.arr a를 np.array로 복사하면 arr b가 되지만 np.asarray로 복사하면 arr a'가 된다. (바로가기, 참조 arr)\n",
    "https://studymake.tistory.com/406"
   ]
  },
  {
   "cell_type": "code",
   "execution_count": null,
   "metadata": {},
   "outputs": [],
   "source": [
    "##\n",
    "offset_nframe = 0\n",
    "\n",
    "for i in range(nframe_train):\n",
    "    img_label.seek(id_frame[i + offset_nframe])\n",
    "    img_input.ssek(id_frame[i + offset_nframe])\n",
    "    \n",
    "    label_ = np.asarray(img_label)\n",
    "    input_ = np.asarray(img_input)\n",
    "    \n",
    "    np.save(os.path.join(dir_save_train, 'label_%03d.npy' % i), label_)\n",
    "    np.save(os.path.join(dir_save_train, 'input_%03d.npy' % i), input_)"
   ]
  },
  {
   "cell_type": "code",
   "execution_count": null,
   "metadata": {},
   "outputs": [],
   "source": [
    "##\n",
    "offset_nframe = nframe_train\n",
    "\n",
    "for i in range(nframe_val):\n",
    "    img_label.seek(id_frame[i + offset_nframe])\n",
    "    img_input.seek(id_frame[i + offset_nframe])\n",
    "\n",
    "    label_ = np.asarray(img_label)\n",
    "    input_ = np.asarray(img_input)\n",
    "\n",
    "    np.save(os.path.join(dir_save_val, 'label_%03d.npy' % i), label_)\n",
    "    np.save(os.path.join(dir_save_val, 'input_%03d.npy' % i), input_)"
   ]
  },
  {
   "cell_type": "code",
   "execution_count": null,
   "metadata": {},
   "outputs": [],
   "source": [
    "##\n",
    "offset_nframe = nframe_train + nframe_val\n",
    "\n",
    "for i in range(nframe_test):\n",
    "    img_label.seek(id_frame[i + offset_nframe])\n",
    "    img_input.seek(id_frame[i + offset_nframe])\n",
    "\n",
    "    label_ = np.asarray(img_label)\n",
    "    input_ = np.asarray(img_input)\n",
    "\n",
    "    np.save(os.path.join(dir_save_test, 'label_%03d.npy' % i), label_)\n",
    "    np.save(os.path.join(dir_save_test, 'input_%03d.npy' % i), input_)"
   ]
  },
  {
   "cell_type": "code",
   "execution_count": null,
   "metadata": {},
   "outputs": [],
   "source": [
    "##\n",
    "plt.subplot(121)\n",
    "plt.imshow(label_, cmap='gray')\n",
    "plt.title('label')\n",
    "\n",
    "plt.subplot(122)\n",
    "plt.imshow(input_, cmap='gray')\n",
    "plt.title('input')\n",
    "\n",
    "plt.show()"
   ]
  },
  {
   "cell_type": "code",
   "execution_count": null,
   "metadata": {},
   "outputs": [],
   "source": []
  },
  {
   "cell_type": "code",
   "execution_count": null,
   "metadata": {},
   "outputs": [],
   "source": []
  },
  {
   "cell_type": "code",
   "execution_count": null,
   "metadata": {},
   "outputs": [],
   "source": []
  },
  {
   "cell_type": "code",
   "execution_count": null,
   "metadata": {},
   "outputs": [],
   "source": []
  },
  {
   "cell_type": "code",
   "execution_count": null,
   "metadata": {},
   "outputs": [],
   "source": []
  },
  {
   "cell_type": "code",
   "execution_count": null,
   "metadata": {},
   "outputs": [],
   "source": []
  },
  {
   "cell_type": "code",
   "execution_count": null,
   "metadata": {},
   "outputs": [],
   "source": []
  },
  {
   "cell_type": "code",
   "execution_count": null,
   "metadata": {},
   "outputs": [],
   "source": []
  },
  {
   "cell_type": "code",
   "execution_count": null,
   "metadata": {},
   "outputs": [],
   "source": []
  },
  {
   "cell_type": "code",
   "execution_count": null,
   "metadata": {},
   "outputs": [],
   "source": []
  },
  {
   "cell_type": "code",
   "execution_count": null,
   "metadata": {},
   "outputs": [],
   "source": []
  },
  {
   "cell_type": "code",
   "execution_count": null,
   "metadata": {},
   "outputs": [],
   "source": []
  },
  {
   "cell_type": "code",
   "execution_count": null,
   "metadata": {},
   "outputs": [],
   "source": []
  },
  {
   "cell_type": "code",
   "execution_count": null,
   "metadata": {},
   "outputs": [],
   "source": []
  },
  {
   "cell_type": "code",
   "execution_count": null,
   "metadata": {},
   "outputs": [],
   "source": []
  },
  {
   "cell_type": "code",
   "execution_count": null,
   "metadata": {},
   "outputs": [],
   "source": []
  }
 ],
 "metadata": {
  "kernelspec": {
   "display_name": "Python [conda env:cuda_python_3.6]",
   "language": "python",
   "name": "conda-env-cuda_python_3.6-py"
  },
  "language_info": {
   "codemirror_mode": {
    "name": "ipython",
    "version": 3
   },
   "file_extension": ".py",
   "mimetype": "text/x-python",
   "name": "python",
   "nbconvert_exporter": "python",
   "pygments_lexer": "ipython3",
   "version": "3.6.10"
  }
 },
 "nbformat": 4,
 "nbformat_minor": 4
}
