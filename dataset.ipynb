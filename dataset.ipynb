{
 "cells": [
  {
   "cell_type": "markdown",
   "metadata": {},
   "source": [
    "# Dataset\n",
    "\n",
    "*** 들어가기전 ***\n",
    "\n",
    "파이토치 설치 : 구글 파이토치 검색"
   ]
  },
  {
   "cell_type": "code",
   "execution_count": 2,
   "metadata": {},
   "outputs": [],
   "source": [
    "import os\n",
    "import numpy as np\n",
    "\n",
    "import torch\n",
    "import torch.nn as nn"
   ]
  },
  {
   "cell_type": "markdown",
   "metadata": {},
   "source": [
    "*** lst_label = [f for f in lst_data if f.startswith('label')] ***\n",
    "\n",
    "startswith를 이용해서 prefixed 되어있는 리스트만 따로 정리할 수 있다. \n",
    "for 문 앞에 문자를 쓰면 바로 실행 가능하다. \n",
    "\n",
    "EX) s.startswitch('i like') #i like로 시작하는 문자열인가?\n",
    "리턴 : True, false값\n",
    "\n",
    "\n",
    "*** 뉴럴넷에 들어가는 모든 Input은 3개의 축이 들어가야 한다.(파이토치에 들어가는 디멘젼은 반드시 3개여야 한다.) 채널이 없는 경우 혹은 채널의 축이 무시되는 경우는 임의로 채널을 생성해야 한다.***\n",
    "\n",
    "REF) subplot은 2 by 2 디멘젼만 받기 때문에 3개의 축을 만들면 에러가 뜬다.\n",
    "\n",
    "\n",
    "***  data = {'input' : input, 'label' : label} ***\n",
    "사전형 자료"
   ]
  },
  {
   "cell_type": "code",
   "execution_count": 3,
   "metadata": {
    "scrolled": true
   },
   "outputs": [
    {
     "ename": "SyntaxError",
     "evalue": "unexpected EOF while parsing (<ipython-input-3-16086400e8dd>, line 3)",
     "output_type": "error",
     "traceback": [
      "\u001b[0;36m  File \u001b[0;32m\"<ipython-input-3-16086400e8dd>\"\u001b[0;36m, line \u001b[0;32m3\u001b[0m\n\u001b[0;31m    \u001b[0m\n\u001b[0m    ^\u001b[0m\n\u001b[0;31mSyntaxError\u001b[0m\u001b[0;31m:\u001b[0m unexpected EOF while parsing\n"
     ]
    }
   ],
   "source": [
    "class Dataset(torch.utils.data.Dataset):\n",
    "    def __init__(self, data_dir, transform=None):\n",
    "        self.data_dir = data_dir\n",
    "        self.transform = transform\n",
    "        \n",
    "        lst_data = os.listdir(self.data_dir)\n",
    "        \n",
    "        lst_label = [f for f in lst_data if f.startswitch('label')]\n",
    "        lst_input = [f for f in lst_data if f.startswitch('input')]\n",
    "        \n",
    "        lst_label.sort()\n",
    "        lst_input.sort()\n",
    "        \n",
    "        self.lst_label = lst_label\n",
    "        self.lst_input = lst_input\n",
    "        \n",
    "    def __len__(self):\n",
    "        return len(self.lst_label)\n",
    "    \n",
    "    def __getitem__(self,index):\n",
    "        label = np.load(os.path.join(self.data_dir, self.lst_label[index]))\n",
    "        input = np.load(os.path.join(slef.data_dir, self.lst_input[index]))\n",
    "        \n",
    "        label = label/255.0\n",
    "        input = input/255.0\n",
    "        \n",
    "        if label.ndim == 2 :\n",
    "            label = label[:, :, np.newaxis]\n",
    "        if input.ndim ==2:\n",
    "            input = input[:, :, np.newaxis]\n",
    "            \n",
    "        data = {'input' : input, 'label' : label}\n",
    "        \n",
    "        if self.transform:\n",
    "            data = self.transform(data)\n",
    "            \n",
    "        return data"
   ]
  },
  {
   "cell_type": "markdown",
   "metadata": {},
   "source": [
    "*** Transpose 구현하기 ***\n",
    "\n",
    "numpy image의 차원은 (y, x, channel)로 구성되어 있으며 파이토치의 input으로 들어가기 위해서 필요한 차원은 (channel, Y, X)이다.\n",
    "numpy image의 채널을 첫 번재로 옮기고 나머지 축을 그대로 두기 위해서 label.transpose((2,0,1).astype(np.float32))를 해준다.\n",
    "\n",
    "numpy를 텐서로 넘겨주기 위해서 torch.from_numpy()라는 함수를 이용한다.\n",
    "\n",
    "\n",
    "*** input = (input - self.mean) / self.std ***\n",
    "\n",
    "라벨은 0 또는 1이라는 클래스로 정의되어 있기 때문에 하면 Normalize를 하면 안되고 이미지에만 적용한다.\n",
    "\n",
    "(본 예제에선 Normailzation이라고 말했지만 실제론 Standardization이다. (standard scaler, z-score normalization) 기존 데이터를 평균이 0, 표준편차가 1인 데이터로 만들며 데이터의 분포가 가우시안 분포일 때 유용하다. 표준편차로 나누고 평균을 뺀다.)"
   ]
  },
  {
   "cell_type": "code",
   "execution_count": null,
   "metadata": {},
   "outputs": [],
   "source": [
    "## 트렌스 폼 구현하기\n",
    "class ToTensor(object):\n",
    "    def __call__(self, data):\n",
    "        label, input = data['label'], data['input']\n",
    "        \n",
    "        label = label.transpose((2, 0, 1)).astype(np.float32)\n",
    "        input = input.transpose((2, 0, 1)).astype(np.float32)\n",
    "        \n",
    "        data - {'label' : torch.from_numpy(label), 'input' : torch.from_numpy(input)}\n",
    "        \n",
    "        return data\n",
    "    \n",
    "class Normalization(object):\n",
    "    def __init__(self, mean=0.5, std=0.5):\n",
    "        self.mean = mean\n",
    "        self.std = std\n",
    "        \n",
    "    def __call__(self,data):\n",
    "        label, input = data['label']j, data['input']\n",
    "        \n",
    "        input = (input - self.mean) / self.std\n",
    "        \n",
    "        return data\n",
    "    \n",
    "class RandomFlip(object):\n",
    "    def __call__(self, data):\n",
    "        label, input = data['label'], datea['input']\n",
    "        \n",
    "        if np.random.rand() > 0.5\n",
    "            label = np.fliplr(label)\n",
    "            input = np.fliplr(input)\n",
    "            \n",
    "        if np.random.rand() > 0.5\n",
    "            label = np.fliqud(label)\n",
    "            input = np.fliqud(input)\n",
    "            \n",
    "        data = {'label' : label, 'input' : input}\n",
    "        \n",
    "        return data\n",
    "        \n",
    "        "
   ]
  },
  {
   "cell_type": "code",
   "execution_count": null,
   "metadata": {},
   "outputs": [],
   "source": []
  },
  {
   "cell_type": "code",
   "execution_count": null,
   "metadata": {},
   "outputs": [],
   "source": []
  },
  {
   "cell_type": "code",
   "execution_count": null,
   "metadata": {},
   "outputs": [],
   "source": []
  },
  {
   "cell_type": "code",
   "execution_count": null,
   "metadata": {},
   "outputs": [],
   "source": []
  },
  {
   "cell_type": "code",
   "execution_count": null,
   "metadata": {},
   "outputs": [],
   "source": []
  },
  {
   "cell_type": "code",
   "execution_count": null,
   "metadata": {},
   "outputs": [],
   "source": []
  },
  {
   "cell_type": "code",
   "execution_count": null,
   "metadata": {},
   "outputs": [],
   "source": []
  },
  {
   "cell_type": "code",
   "execution_count": null,
   "metadata": {},
   "outputs": [],
   "source": []
  },
  {
   "cell_type": "code",
   "execution_count": null,
   "metadata": {},
   "outputs": [],
   "source": []
  },
  {
   "cell_type": "code",
   "execution_count": null,
   "metadata": {},
   "outputs": [],
   "source": []
  },
  {
   "cell_type": "code",
   "execution_count": null,
   "metadata": {},
   "outputs": [],
   "source": []
  },
  {
   "cell_type": "code",
   "execution_count": null,
   "metadata": {},
   "outputs": [],
   "source": []
  },
  {
   "cell_type": "code",
   "execution_count": null,
   "metadata": {},
   "outputs": [],
   "source": []
  },
  {
   "cell_type": "code",
   "execution_count": null,
   "metadata": {},
   "outputs": [],
   "source": []
  },
  {
   "cell_type": "code",
   "execution_count": null,
   "metadata": {},
   "outputs": [],
   "source": []
  }
 ],
 "metadata": {
  "kernelspec": {
   "display_name": "Python [conda env:cuda_python_3.6]",
   "language": "python",
   "name": "conda-env-cuda_python_3.6-py"
  },
  "language_info": {
   "codemirror_mode": {
    "name": "ipython",
    "version": 3
   },
   "file_extension": ".py",
   "mimetype": "text/x-python",
   "name": "python",
   "nbconvert_exporter": "python",
   "pygments_lexer": "ipython3",
   "version": "3.6.10"
  }
 },
 "nbformat": 4,
 "nbformat_minor": 4
}
